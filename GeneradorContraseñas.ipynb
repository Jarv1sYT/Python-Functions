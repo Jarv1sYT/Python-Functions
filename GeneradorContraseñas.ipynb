{
 "cells": [
  {
   "cell_type": "code",
   "execution_count": null,
   "id": "26db3342",
   "metadata": {},
   "outputs": [],
   "source": [
    "#Librerías utilizadas:\n",
    "\n",
    "import secrets        #Genera números aleatorios seguros para trabajar con secretos criptográficos  (https://docs.python.org/es/3.8/library/secrets.html)\n",
    "import string         #Operaciones comunes de cadena de caracteres                                  (https://docs.python.org/es/3.9/library/string.html)\n",
    "import pyperclip      #Permite copiar y pegar texto al portapapeles de forma sencilla               (https://pyperclip.readthedocs.io/en/latest/)\n",
    "\n",
    "# Definir el alfabeto para la generación de contraseñas: Letras, dígitos y caracteres especiales\n",
    "\n",
    "letras = string.ascii_letters         # a-z + A-Z\n",
    "numeros = string.digits               # 0-9\n",
    "caracteres = string.punctuation       # !\" #$%&'()*+,-./:;<=>?@[\\]^_`{|} ~.\n",
    "\n",
    "alfabeto = letras + numeros + caracteres\n",
    "\n",
    "\n",
    "# Fijar la longitud de la contraseña\n",
    "\n",
    "longitud = int(input(\"¿Cuántos caracteres quieres en tu contraseña? (Entre 8 y 20): \"))\n",
    "\n",
    "if longitud < 8:\n",
    "    print(\"La contraseña debe tener al menos 8 caracteres, por lo tanto se ajustará a 8.\")\n",
    "    longitud = 8\n",
    "elif longitud > 20:\n",
    "    print(\"La contraseña no debe tener más de 20 caracteres, por lo tanto se ajustará a 20.\")\n",
    "    longitud = 20\n",
    "\n",
    "while True:\n",
    "    contraseña = \"\"\n",
    "\n",
    "# Generar la contraseña de forma aleatoria utilizando la librería secrets\n",
    "\n",
    "    for i in range(longitud):\n",
    "        contraseña = contraseña + secrets.choice(alfabeto)\n",
    "\n",
    "# Verificar que la contraseña generada cumple con los requisitos de seguridad mínimos\n",
    "\n",
    "    comp_numeros = any(i in numeros for i in contraseña)\n",
    "    comp_caracteres = any(i in caracteres for i in contraseña)\n",
    "\n",
    "    if comp_numeros and comp_caracteres:\n",
    "        break\n",
    "\n",
    "# Imprimir la contraseña generada\n",
    "\n",
    "pyperclip.copy(contraseña)\n",
    "\n",
    "print(\"La contraseña segura es: \",contraseña)\n",
    "print()\n",
    "print(\"La contraseña ha sido copiada al portapapeles correctamente.\")"
   ]
  }
 ],
 "metadata": {
  "kernelspec": {
   "display_name": "Python 3",
   "language": "python",
   "name": "python3"
  },
  "language_info": {
   "codemirror_mode": {
    "name": "ipython",
    "version": 3
   },
   "file_extension": ".py",
   "mimetype": "text/x-python",
   "name": "python",
   "nbconvert_exporter": "python",
   "pygments_lexer": "ipython3",
   "version": "3.9.13"
  }
 },
 "nbformat": 4,
 "nbformat_minor": 5
}
